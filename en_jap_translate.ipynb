{
  "nbformat": 4,
  "nbformat_minor": 0,
  "metadata": {
    "kernelspec": {
      "name": "python3",
      "display_name": "Python 3"
    },
    "language_info": {
      "codemirror_mode": {
        "name": "ipython",
        "version": 3
      },
      "file_extension": ".py",
      "mimetype": "text/x-python",
      "name": "python",
      "nbconvert_exporter": "python",
      "pygments_lexer": "ipython3",
      "version": "3.7.6"
    },
    "colab": {
      "name": "en_jap_translate.ipynb",
      "provenance": [],
      "collapsed_sections": [],
      "include_colab_link": true
    },
    "accelerator": "GPU",
    "widgets": {
      "application/vnd.jupyter.widget-state+json": {
        "2867752e7b634913b67de1f16b9f0769": {
          "model_module": "@jupyter-widgets/controls",
          "model_name": "HBoxModel",
          "state": {
            "_view_name": "HBoxView",
            "_dom_classes": [],
            "_model_name": "HBoxModel",
            "_view_module": "@jupyter-widgets/controls",
            "_model_module_version": "1.5.0",
            "_view_count": null,
            "_view_module_version": "1.5.0",
            "box_style": "",
            "layout": "IPY_MODEL_9763500da4ba4949917ec957d78f3a26",
            "_model_module": "@jupyter-widgets/controls",
            "children": [
              "IPY_MODEL_7f16150ec6f843b39535aed9b05e8d30",
              "IPY_MODEL_695dd301ef9849038d22414878678c97"
            ]
          }
        },
        "9763500da4ba4949917ec957d78f3a26": {
          "model_module": "@jupyter-widgets/base",
          "model_name": "LayoutModel",
          "state": {
            "_view_name": "LayoutView",
            "grid_template_rows": null,
            "right": null,
            "justify_content": null,
            "_view_module": "@jupyter-widgets/base",
            "overflow": null,
            "_model_module_version": "1.2.0",
            "_view_count": null,
            "flex_flow": null,
            "width": null,
            "min_width": null,
            "border": null,
            "align_items": null,
            "bottom": null,
            "_model_module": "@jupyter-widgets/base",
            "top": null,
            "grid_column": null,
            "overflow_y": null,
            "overflow_x": null,
            "grid_auto_flow": null,
            "grid_area": null,
            "grid_template_columns": null,
            "flex": null,
            "_model_name": "LayoutModel",
            "justify_items": null,
            "grid_row": null,
            "max_height": null,
            "align_content": null,
            "visibility": null,
            "align_self": null,
            "height": null,
            "min_height": null,
            "padding": null,
            "grid_auto_rows": null,
            "grid_gap": null,
            "max_width": null,
            "order": null,
            "_view_module_version": "1.2.0",
            "grid_template_areas": null,
            "object_position": null,
            "object_fit": null,
            "grid_auto_columns": null,
            "margin": null,
            "display": null,
            "left": null
          }
        },
        "7f16150ec6f843b39535aed9b05e8d30": {
          "model_module": "@jupyter-widgets/controls",
          "model_name": "FloatProgressModel",
          "state": {
            "_view_name": "ProgressView",
            "style": "IPY_MODEL_bbce9dd9f2c845a0a75032b481adcf9f",
            "_dom_classes": [],
            "description": "  0%",
            "_model_name": "FloatProgressModel",
            "bar_style": "danger",
            "max": 5,
            "_view_module": "@jupyter-widgets/controls",
            "_model_module_version": "1.5.0",
            "value": 0,
            "_view_count": null,
            "_view_module_version": "1.5.0",
            "orientation": "horizontal",
            "min": 0,
            "description_tooltip": null,
            "_model_module": "@jupyter-widgets/controls",
            "layout": "IPY_MODEL_dc054be0c9a44ffbbb5543665f753d60"
          }
        },
        "695dd301ef9849038d22414878678c97": {
          "model_module": "@jupyter-widgets/controls",
          "model_name": "HTMLModel",
          "state": {
            "_view_name": "HTMLView",
            "style": "IPY_MODEL_6bbbf607e6864d859a39d4fce372ab23",
            "_dom_classes": [],
            "description": "",
            "_model_name": "HTMLModel",
            "placeholder": "​",
            "_view_module": "@jupyter-widgets/controls",
            "_model_module_version": "1.5.0",
            "value": " 0/5 [00:29&lt;?, ?it/s]",
            "_view_count": null,
            "_view_module_version": "1.5.0",
            "description_tooltip": null,
            "_model_module": "@jupyter-widgets/controls",
            "layout": "IPY_MODEL_365eb59b2b354470b1113299e86d2ec1"
          }
        },
        "bbce9dd9f2c845a0a75032b481adcf9f": {
          "model_module": "@jupyter-widgets/controls",
          "model_name": "ProgressStyleModel",
          "state": {
            "_view_name": "StyleView",
            "_model_name": "ProgressStyleModel",
            "description_width": "initial",
            "_view_module": "@jupyter-widgets/base",
            "_model_module_version": "1.5.0",
            "_view_count": null,
            "_view_module_version": "1.2.0",
            "bar_color": null,
            "_model_module": "@jupyter-widgets/controls"
          }
        },
        "dc054be0c9a44ffbbb5543665f753d60": {
          "model_module": "@jupyter-widgets/base",
          "model_name": "LayoutModel",
          "state": {
            "_view_name": "LayoutView",
            "grid_template_rows": null,
            "right": null,
            "justify_content": null,
            "_view_module": "@jupyter-widgets/base",
            "overflow": null,
            "_model_module_version": "1.2.0",
            "_view_count": null,
            "flex_flow": null,
            "width": null,
            "min_width": null,
            "border": null,
            "align_items": null,
            "bottom": null,
            "_model_module": "@jupyter-widgets/base",
            "top": null,
            "grid_column": null,
            "overflow_y": null,
            "overflow_x": null,
            "grid_auto_flow": null,
            "grid_area": null,
            "grid_template_columns": null,
            "flex": null,
            "_model_name": "LayoutModel",
            "justify_items": null,
            "grid_row": null,
            "max_height": null,
            "align_content": null,
            "visibility": null,
            "align_self": null,
            "height": null,
            "min_height": null,
            "padding": null,
            "grid_auto_rows": null,
            "grid_gap": null,
            "max_width": null,
            "order": null,
            "_view_module_version": "1.2.0",
            "grid_template_areas": null,
            "object_position": null,
            "object_fit": null,
            "grid_auto_columns": null,
            "margin": null,
            "display": null,
            "left": null
          }
        },
        "6bbbf607e6864d859a39d4fce372ab23": {
          "model_module": "@jupyter-widgets/controls",
          "model_name": "DescriptionStyleModel",
          "state": {
            "_view_name": "StyleView",
            "_model_name": "DescriptionStyleModel",
            "description_width": "",
            "_view_module": "@jupyter-widgets/base",
            "_model_module_version": "1.5.0",
            "_view_count": null,
            "_view_module_version": "1.2.0",
            "_model_module": "@jupyter-widgets/controls"
          }
        },
        "365eb59b2b354470b1113299e86d2ec1": {
          "model_module": "@jupyter-widgets/base",
          "model_name": "LayoutModel",
          "state": {
            "_view_name": "LayoutView",
            "grid_template_rows": null,
            "right": null,
            "justify_content": null,
            "_view_module": "@jupyter-widgets/base",
            "overflow": null,
            "_model_module_version": "1.2.0",
            "_view_count": null,
            "flex_flow": null,
            "width": null,
            "min_width": null,
            "border": null,
            "align_items": null,
            "bottom": null,
            "_model_module": "@jupyter-widgets/base",
            "top": null,
            "grid_column": null,
            "overflow_y": null,
            "overflow_x": null,
            "grid_auto_flow": null,
            "grid_area": null,
            "grid_template_columns": null,
            "flex": null,
            "_model_name": "LayoutModel",
            "justify_items": null,
            "grid_row": null,
            "max_height": null,
            "align_content": null,
            "visibility": null,
            "align_self": null,
            "height": null,
            "min_height": null,
            "padding": null,
            "grid_auto_rows": null,
            "grid_gap": null,
            "max_width": null,
            "order": null,
            "_view_module_version": "1.2.0",
            "grid_template_areas": null,
            "object_position": null,
            "object_fit": null,
            "grid_auto_columns": null,
            "margin": null,
            "display": null,
            "left": null
          }
        }
      }
    }
  },
  "cells": [
    {
      "cell_type": "markdown",
      "metadata": {
        "id": "view-in-github",
        "colab_type": "text"
      },
      "source": [
        "<a href=\"https://colab.research.google.com/github/schokoro/AttentionNMT/blob/dev/en_jap_translate.ipynb\" target=\"_parent\"><img src=\"https://colab.research.google.com/assets/colab-badge.svg\" alt=\"Open In Colab\"/></a>"
      ]
    },
    {
      "cell_type": "markdown",
      "metadata": {
        "id": "bn5ZropJzbay",
        "colab_type": "text"
      },
      "source": [
        "Первым делом проверим какая карточка нам досталась. Лучшим вариантом будет `Tesla P100-PCIE-16GB`, на остальных будет считаться медленнее."
      ]
    },
    {
      "cell_type": "code",
      "metadata": {
        "id": "hcr_Px46CRg3",
        "colab_type": "code",
        "colab": {
          "base_uri": "https://localhost:8080/",
          "height": 34
        },
        "outputId": "cd2aec2e-6f93-49ab-e3d2-81b0039a751b"
      },
      "source": [
        "import torch\n",
        "device = torch.device(\"cuda:0\" if torch.cuda.is_available() else \"cpu\")\n",
        "if device.type == 'cpu':\n",
        "    raise RuntimeErrorx\n",
        "else:\n",
        "    print(torch.cuda.get_device_name(0))"
      ],
      "execution_count": 1,
      "outputs": [
        {
          "output_type": "stream",
          "text": [
            "Tesla T4\n"
          ],
          "name": "stdout"
        }
      ]
    },
    {
      "cell_type": "code",
      "metadata": {
        "id": "7NIT1LbBOjdA",
        "colab_type": "code",
        "colab": {}
      },
      "source": [
        "!pip install janome pandarallel  > /dev/null"
      ],
      "execution_count": 2,
      "outputs": []
    },
    {
      "cell_type": "code",
      "metadata": {
        "id": "XrVZOPD8upby",
        "colab_type": "code",
        "colab": {
          "base_uri": "https://localhost:8080/",
          "height": 119
        },
        "outputId": "de406139-c7cd-4d00-ba77-1bd3c3f24c81"
      },
      "source": [
        "!rm -rf AttentionNMT/\n",
        "!git clone -b dev https://github.com/schokoro/AttentionNMT.git > /dev/null\n",
        "# !pip install allennlp wget youtokentome ipymarkup seqeval livelossplot> /dev/null"
      ],
      "execution_count": 3,
      "outputs": [
        {
          "output_type": "stream",
          "text": [
            "Cloning into 'AttentionNMT'...\n",
            "remote: Enumerating objects: 35, done.\u001b[K\n",
            "remote: Counting objects: 100% (35/35), done.\u001b[K\n",
            "remote: Compressing objects: 100% (26/26), done.\u001b[K\n",
            "remote: Total 35 (delta 16), reused 18 (delta 8), pack-reused 0\u001b[K\n",
            "Unpacking objects: 100% (35/35), done.\n"
          ],
          "name": "stdout"
        }
      ]
    },
    {
      "cell_type": "code",
      "metadata": {
        "id": "meHkHoZ4-_Et",
        "colab_type": "code",
        "colab": {}
      },
      "source": [
        "import sys\n",
        "sys.path.append('/content/AttentionNMT')"
      ],
      "execution_count": 4,
      "outputs": []
    },
    {
      "cell_type": "code",
      "metadata": {
        "id": "OZM_GyVL_Ifv",
        "colab_type": "code",
        "colab": {
          "base_uri": "https://localhost:8080/",
          "height": 51
        },
        "outputId": "9399e018-db75-4cc5-eaae-eaf9f929ec02"
      },
      "source": [
        "%load_ext autoreload\n",
        "%autoreload 2\n",
        "import AttentionNMT\n",
        "from AttentionNMT.transformer import Transformer, Encoder, Decoder\n",
        "from AttentionNMT.utils import count_parameters, initialize_weights, translate_sentence, evaluate_blue, train, evaluate, display_attention, sentence_blue"
      ],
      "execution_count": 5,
      "outputs": [
        {
          "output_type": "stream",
          "text": [
            "/usr/local/lib/python3.6/dist-packages/statsmodels/tools/_testing.py:19: FutureWarning: pandas.util.testing is deprecated. Use the functions in the public API at pandas.testing instead.\n",
            "  import pandas.util.testing as tm\n"
          ],
          "name": "stderr"
        }
      ]
    },
    {
      "cell_type": "code",
      "metadata": {
        "id": "AUSkxY7m0Ica",
        "colab_type": "code",
        "colab": {
          "base_uri": "https://localhost:8080/",
          "height": 51
        },
        "outputId": "1a5fb156-d3cd-4c84-fc95-38c6c0202512"
      },
      "source": [
        "%autoreload 2\n",
        "from typing import Dict, List, Optional\n",
        "import torch.nn as nn\n",
        "\n",
        "from matplotlib.font_manager import FontProperties\n",
        "from torchtext.data import Field, BucketIterator\n",
        "from tqdm.notebook import tqdm\n",
        "from pandarallel import pandarallel\n",
        "import torchtext\n",
        "import matplotlib.pyplot as plt\n",
        "import matplotlib.ticker as ticker\n",
        "import nltk\n",
        "import spacy\n",
        "import warnings\n",
        "import re\n",
        "import random\n",
        "import math\n",
        "import time\n",
        "from janome.tokenizer import Tokenizer as JTokenizer\n",
        "import seaborn as sns\n",
        "import numpy as np\n",
        "import pandas as pd\n",
        "\n",
        "sns.set()\n",
        "tqdm.pandas()\n",
        "warnings.filterwarnings('ignore')\n",
        "pandarallel.initialize(progress_bar=False)\n",
        "\n",
        "%matplotlib inline"
      ],
      "execution_count": 6,
      "outputs": [
        {
          "output_type": "stream",
          "text": [
            "INFO: Pandarallel will run on 2 workers.\n",
            "INFO: Pandarallel will use Memory file system to transfer data between the main process and workers.\n"
          ],
          "name": "stdout"
        }
      ]
    },
    {
      "cell_type": "code",
      "metadata": {
        "id": "M8DRhQOh0Icr",
        "colab_type": "code",
        "colab": {}
      },
      "source": [
        "SEED = 42\n",
        "\n",
        "random.seed(SEED)\n",
        "np.random.seed(SEED)\n",
        "torch.manual_seed(SEED)\n",
        "torch.cuda.manual_seed(SEED)\n",
        "torch.backends.cudnn.deterministic = True"
      ],
      "execution_count": 7,
      "outputs": []
    },
    {
      "cell_type": "markdown",
      "metadata": {
        "id": "JXL-4dSw4_Ue",
        "colab_type": "text"
      },
      "source": [
        "# Подготовка данных и EDA"
      ]
    },
    {
      "cell_type": "markdown",
      "metadata": {
        "id": "VNLtpHdGp2ZT",
        "colab_type": "text"
      },
      "source": [
        "Для обучения англо-японского переводчика будем использовать [Tanaka Corpus](http://www.edrdg.org/wiki/index.php/Tanaka_Corpus). Прямая ссылка на скачивание [здесь](ftp://ftp.monash.edu/pub/nihongo/examples.utf.gz).\n"
      ]
    },
    {
      "cell_type": "code",
      "metadata": {
        "id": "pDEnl0xEPT64",
        "colab_type": "code",
        "colab": {}
      },
      "source": [
        "!wget -q ftp://ftp.monash.edu/pub/nihongo/examples.utf.gz \n",
        "!gunzip -f examples.utf.gz"
      ],
      "execution_count": 8,
      "outputs": []
    },
    {
      "cell_type": "markdown",
      "metadata": {
        "id": "Yr9FAV3gZ0TF",
        "colab_type": "text"
      },
      "source": [
        "## Подготовка корпуса\n",
        "\n",
        "Посмотрим, как выглядит корпус:"
      ]
    },
    {
      "cell_type": "code",
      "metadata": {
        "id": "_pScGAsyMwba",
        "colab_type": "code",
        "colab": {
          "base_uri": "https://localhost:8080/",
          "height": 85
        },
        "outputId": "06f8ac2c-46bd-4946-90da-c3fdf8b2677c"
      },
      "source": [
        "!head -4 examples.utf"
      ],
      "execution_count": 9,
      "outputs": [
        {
          "output_type": "stream",
          "text": [
            "A: ムーリエルは２０歳になりました。\tMuiriel is 20 now.#ID=1282_4707\n",
            "B: は 二十歳(はたち){２０歳} になる[01]{になりました}\n",
            "A: すぐに戻ります。\tI will be back soon.#ID=1284_4709\n",
            "B: 直ぐに{すぐに} 戻る{戻ります}\n"
          ],
          "name": "stdout"
        }
      ]
    },
    {
      "cell_type": "markdown",
      "metadata": {
        "id": "UcfwPqCbRoL1",
        "colab_type": "text"
      },
      "source": [
        "Нам нужны только строки с префиксом `A:`\n",
        "Для токенизации английского языка будем использовать spacy, для японского - токенизатор janome. Для англо-японского перевода будет лучше, если японский текст мы развернём задом наперёд. Просто поверьте. Или можете проверить. Соответственно, при переводе нам будет необходимо развернуть переведённый текст обратно."
      ]
    },
    {
      "cell_type": "code",
      "metadata": {
        "id": "uFpngBkPPh4z",
        "colab_type": "code",
        "colab": {}
      },
      "source": [
        "nlp = spacy.load(\"en_core_web_sm\")\n",
        "jt = JTokenizer()\n",
        "en_remove = re.compile(r'#ID=.+')\n",
        "is_token = re.compile(r'\\w+')\n",
        "\n",
        "\n",
        "def get_pair(line: str) -> Dict[str, str]:\n",
        "    \"\"\"\n",
        "    Принимает на вход строку из файла паралелльного корпуса, возвращает словарь\n",
        "     с японским и английским предложениями\n",
        "    \"\"\"\n",
        "    jap, en = line.strip().split('\\t')\n",
        "    jap = jap.replace('A: ', '').strip()\n",
        "    en = en_remove.sub('', en)\n",
        "    return {'en': en, 'jap': jap}\n",
        "  \n",
        "def src_tokenize(text: str) -> List[str]:\n",
        "    \"\"\"\n",
        "    Токенизирует английский текст, возвращает список токенов.\n",
        "    \"\"\"\n",
        "    return [tok.text for tok in nlp.tokenizer(text)]\n",
        "\n",
        "\n",
        "def trg_tokenize(text: str) -> List[str]:\n",
        "    \"\"\"\n",
        "    Токенизирует японский текст, возвращает список токенов в обратном порядке\n",
        "    \"\"\"\n",
        "    return [token.base_form for token in jt.tokenize(text)][: : -1]  # if is_token.match(token.base_form)\n",
        "\n",
        "\n",
        "dicts = []\n",
        "with open('examples.utf', 'r') as fobj:\n",
        "    for i, line in enumerate(fobj):\n",
        "        if line.startswith('A:'):\n",
        "            dicts.append(get_pair(line))\n",
        "\n",
        "\n",
        "\n",
        "corpus_df = pd.DataFrame(dicts)   "
      ],
      "execution_count": 10,
      "outputs": []
    },
    {
      "cell_type": "markdown",
      "metadata": {
        "id": "_oRO9brQWF_e",
        "colab_type": "text"
      },
      "source": [
        "Посчитаем длины предложений в символах и посмотрим их корреляцию."
      ]
    },
    {
      "cell_type": "code",
      "metadata": {
        "id": "5iZW08AbbmZO",
        "colab_type": "code",
        "colab": {}
      },
      "source": [
        "corpus_df['en_len'] = corpus_df['en'].map(lambda x: len(x))\n",
        "corpus_df['jap_len'] = corpus_df['jap'].map(lambda x: len(x))"
      ],
      "execution_count": 11,
      "outputs": []
    },
    {
      "cell_type": "code",
      "metadata": {
        "id": "zYfx854VQ0eh",
        "colab_type": "code",
        "colab": {
          "base_uri": "https://localhost:8080/",
          "height": 111
        },
        "outputId": "4c9ba5f8-2565-4e90-9da7-1c62a32f50f2"
      },
      "source": [
        "corpus_df[['en_len','jap_len' ]].corr()"
      ],
      "execution_count": 12,
      "outputs": [
        {
          "output_type": "execute_result",
          "data": {
            "text/html": [
              "<div>\n",
              "<style scoped>\n",
              "    .dataframe tbody tr th:only-of-type {\n",
              "        vertical-align: middle;\n",
              "    }\n",
              "\n",
              "    .dataframe tbody tr th {\n",
              "        vertical-align: top;\n",
              "    }\n",
              "\n",
              "    .dataframe thead th {\n",
              "        text-align: right;\n",
              "    }\n",
              "</style>\n",
              "<table border=\"1\" class=\"dataframe\">\n",
              "  <thead>\n",
              "    <tr style=\"text-align: right;\">\n",
              "      <th></th>\n",
              "      <th>en_len</th>\n",
              "      <th>jap_len</th>\n",
              "    </tr>\n",
              "  </thead>\n",
              "  <tbody>\n",
              "    <tr>\n",
              "      <th>en_len</th>\n",
              "      <td>1.000000</td>\n",
              "      <td>0.809457</td>\n",
              "    </tr>\n",
              "    <tr>\n",
              "      <th>jap_len</th>\n",
              "      <td>0.809457</td>\n",
              "      <td>1.000000</td>\n",
              "    </tr>\n",
              "  </tbody>\n",
              "</table>\n",
              "</div>"
            ],
            "text/plain": [
              "           en_len   jap_len\n",
              "en_len   1.000000  0.809457\n",
              "jap_len  0.809457  1.000000"
            ]
          },
          "metadata": {
            "tags": []
          },
          "execution_count": 12
        }
      ]
    },
    {
      "cell_type": "code",
      "metadata": {
        "id": "7qyNHUsvQ0Xp",
        "colab_type": "code",
        "colab": {
          "base_uri": "https://localhost:8080/",
          "height": 441
        },
        "outputId": "37651acd-47cb-4b9b-d9b0-94365306241d"
      },
      "source": [
        "sns.jointplot(\"en_len\", \"jap_len\", data=corpus_df, kind=\"reg\");"
      ],
      "execution_count": 13,
      "outputs": [
        {
          "output_type": "display_data",
          "data": {
            "image/png": "[encoded data removed]",
            "text/plain": [
              "<Figure size 432x432 with 3 Axes>"
            ]
          },
          "metadata": {
            "tags": [],
            "needs_background": "light"
          }
        }
      ]
    },
    {
      "cell_type": "markdown",
      "metadata": {
        "id": "SfAL1esrWZxm",
        "colab_type": "text"
      },
      "source": [
        "А теперь - длины предложений в токенах и их корреляцию."
      ]
    },
    {
      "cell_type": "code",
      "metadata": {
        "id": "fDnO9c6yQ0S-",
        "colab_type": "code",
        "colab": {
          "base_uri": "https://localhost:8080/",
          "height": 51
        },
        "outputId": "3afa057c-79cd-4050-b884-17049f26a84d"
      },
      "source": [
        "%time corpus_df['en_tok_len'] = corpus_df['en'].parallel_apply(lambda x: len(src_tokenize(x)))"
      ],
      "execution_count": 14,
      "outputs": [
        {
          "output_type": "stream",
          "text": [
            "CPU times: user 40.1 ms, sys: 82.2 ms, total: 122 ms\n",
            "Wall time: 4.58 s\n"
          ],
          "name": "stdout"
        }
      ]
    },
    {
      "cell_type": "code",
      "metadata": {
        "id": "GWWfEP1nQ0Ol",
        "colab_type": "code",
        "colab": {
          "base_uri": "https://localhost:8080/",
          "height": 51
        },
        "outputId": "d555750a-84b3-457f-aeca-c15307c542ed"
      },
      "source": [
        "%time corpus_df['jap_tok_len'] = corpus_df['jap'].parallel_apply(lambda x: len(trg_tokenize(x)))"
      ],
      "execution_count": 15,
      "outputs": [
        {
          "output_type": "stream",
          "text": [
            "CPU times: user 106 ms, sys: 94.9 ms, total: 201 ms\n",
            "Wall time: 2min 5s\n"
          ],
          "name": "stdout"
        }
      ]
    },
    {
      "cell_type": "code",
      "metadata": {
        "id": "Ou5Meg4yU3c5",
        "colab_type": "code",
        "colab": {
          "base_uri": "https://localhost:8080/",
          "height": 111
        },
        "outputId": "0e7720ff-dd1c-4d86-b59c-86aa2174720f"
      },
      "source": [
        "corpus_df[['en_tok_len','jap_tok_len' ]].corr()"
      ],
      "execution_count": 16,
      "outputs": [
        {
          "output_type": "execute_result",
          "data": {
            "text/html": [
              "<div>\n",
              "<style scoped>\n",
              "    .dataframe tbody tr th:only-of-type {\n",
              "        vertical-align: middle;\n",
              "    }\n",
              "\n",
              "    .dataframe tbody tr th {\n",
              "        vertical-align: top;\n",
              "    }\n",
              "\n",
              "    .dataframe thead th {\n",
              "        text-align: right;\n",
              "    }\n",
              "</style>\n",
              "<table border=\"1\" class=\"dataframe\">\n",
              "  <thead>\n",
              "    <tr style=\"text-align: right;\">\n",
              "      <th></th>\n",
              "      <th>en_tok_len</th>\n",
              "      <th>jap_tok_len</th>\n",
              "    </tr>\n",
              "  </thead>\n",
              "  <tbody>\n",
              "    <tr>\n",
              "      <th>en_tok_len</th>\n",
              "      <td>1.000000</td>\n",
              "      <td>0.775549</td>\n",
              "    </tr>\n",
              "    <tr>\n",
              "      <th>jap_tok_len</th>\n",
              "      <td>0.775549</td>\n",
              "      <td>1.000000</td>\n",
              "    </tr>\n",
              "  </tbody>\n",
              "</table>\n",
              "</div>"
            ],
            "text/plain": [
              "             en_tok_len  jap_tok_len\n",
              "en_tok_len     1.000000     0.775549\n",
              "jap_tok_len    0.775549     1.000000"
            ]
          },
          "metadata": {
            "tags": []
          },
          "execution_count": 16
        }
      ]
    },
    {
      "cell_type": "code",
      "metadata": {
        "id": "5DarnwNuQ0ME",
        "colab_type": "code",
        "colab": {
          "base_uri": "https://localhost:8080/",
          "height": 458
        },
        "outputId": "938b23f4-184a-4649-be29-8247ef620e53"
      },
      "source": [
        "sns.jointplot(\"en_tok_len\", \"jap_tok_len\", data=corpus_df, kind=\"reg\")"
      ],
      "execution_count": 17,
      "outputs": [
        {
          "output_type": "execute_result",
          "data": {
            "text/plain": [
              "<seaborn.axisgrid.JointGrid at 0x7fcecbc97da0>"
            ]
          },
          "metadata": {
            "tags": []
          },
          "execution_count": 17
        },
        {
          "output_type": "display_data",
          "data": {
            "image/png": "[encoded data removed]",
            "text/plain": [
              "<Figure size 432x432 with 3 Axes>"
            ]
          },
          "metadata": {
            "tags": [],
            "needs_background": "light"
          }
        }
      ]
    },
    {
      "cell_type": "code",
      "metadata": {
        "id": "4MMd06uPU3XQ",
        "colab_type": "code",
        "colab": {
          "base_uri": "https://localhost:8080/",
          "height": 297
        },
        "outputId": "4ca04b4b-e8d6-4acb-c61b-8552079c233d"
      },
      "source": [
        "corpus_df.describe()"
      ],
      "execution_count": 18,
      "outputs": [
        {
          "output_type": "execute_result",
          "data": {
            "text/html": [
              "<div>\n",
              "<style scoped>\n",
              "    .dataframe tbody tr th:only-of-type {\n",
              "        vertical-align: middle;\n",
              "    }\n",
              "\n",
              "    .dataframe tbody tr th {\n",
              "        vertical-align: top;\n",
              "    }\n",
              "\n",
              "    .dataframe thead th {\n",
              "        text-align: right;\n",
              "    }\n",
              "</style>\n",
              "<table border=\"1\" class=\"dataframe\">\n",
              "  <thead>\n",
              "    <tr style=\"text-align: right;\">\n",
              "      <th></th>\n",
              "      <th>en_len</th>\n",
              "      <th>jap_len</th>\n",
              "      <th>en_tok_len</th>\n",
              "      <th>jap_tok_len</th>\n",
              "    </tr>\n",
              "  </thead>\n",
              "  <tbody>\n",
              "    <tr>\n",
              "      <th>count</th>\n",
              "      <td>149791.000000</td>\n",
              "      <td>149791.000000</td>\n",
              "      <td>149791.000000</td>\n",
              "      <td>149791.000000</td>\n",
              "    </tr>\n",
              "    <tr>\n",
              "      <th>mean</th>\n",
              "      <td>40.471270</td>\n",
              "      <td>18.378407</td>\n",
              "      <td>9.307989</td>\n",
              "      <td>11.744270</td>\n",
              "    </tr>\n",
              "    <tr>\n",
              "      <th>std</th>\n",
              "      <td>17.417855</td>\n",
              "      <td>7.237879</td>\n",
              "      <td>3.594693</td>\n",
              "      <td>4.449102</td>\n",
              "    </tr>\n",
              "    <tr>\n",
              "      <th>min</th>\n",
              "      <td>3.000000</td>\n",
              "      <td>3.000000</td>\n",
              "      <td>2.000000</td>\n",
              "      <td>2.000000</td>\n",
              "    </tr>\n",
              "    <tr>\n",
              "      <th>25%</th>\n",
              "      <td>29.000000</td>\n",
              "      <td>14.000000</td>\n",
              "      <td>7.000000</td>\n",
              "      <td>9.000000</td>\n",
              "    </tr>\n",
              "    <tr>\n",
              "      <th>50%</th>\n",
              "      <td>37.000000</td>\n",
              "      <td>17.000000</td>\n",
              "      <td>9.000000</td>\n",
              "      <td>11.000000</td>\n",
              "    </tr>\n",
              "    <tr>\n",
              "      <th>75%</th>\n",
              "      <td>47.000000</td>\n",
              "      <td>21.000000</td>\n",
              "      <td>11.000000</td>\n",
              "      <td>14.000000</td>\n",
              "    </tr>\n",
              "    <tr>\n",
              "      <th>max</th>\n",
              "      <td>251.000000</td>\n",
              "      <td>117.000000</td>\n",
              "      <td>54.000000</td>\n",
              "      <td>68.000000</td>\n",
              "    </tr>\n",
              "  </tbody>\n",
              "</table>\n",
              "</div>"
            ],
            "text/plain": [
              "              en_len        jap_len     en_tok_len    jap_tok_len\n",
              "count  149791.000000  149791.000000  149791.000000  149791.000000\n",
              "mean       40.471270      18.378407       9.307989      11.744270\n",
              "std        17.417855       7.237879       3.594693       4.449102\n",
              "min         3.000000       3.000000       2.000000       2.000000\n",
              "25%        29.000000      14.000000       7.000000       9.000000\n",
              "50%        37.000000      17.000000       9.000000      11.000000\n",
              "75%        47.000000      21.000000      11.000000      14.000000\n",
              "max       251.000000     117.000000      54.000000      68.000000"
            ]
          },
          "metadata": {
            "tags": []
          },
          "execution_count": 18
        }
      ]
    },
    {
      "cell_type": "markdown",
      "metadata": {
        "id": "6lsaMnn8Ws6p",
        "colab_type": "text"
      },
      "source": [
        "Выбросим из корпуса предложения длиннее чем `quantile(0.9)` и сохраним в файл."
      ]
    },
    {
      "cell_type": "code",
      "metadata": {
        "id": "x7ahp2Jn6bO_",
        "colab_type": "code",
        "colab": {
          "base_uri": "https://localhost:8080/",
          "height": 34
        },
        "outputId": "fc6d4d61-0229-4a35-85c3-e655eb5198f4"
      },
      "source": [
        "corpus_df.en_tok_len.quantile(0.9), corpus_df.jap_tok_len.quantile(0.9)"
      ],
      "execution_count": 19,
      "outputs": [
        {
          "output_type": "execute_result",
          "data": {
            "text/plain": [
              "(13.0, 17.0)"
            ]
          },
          "metadata": {
            "tags": []
          },
          "execution_count": 19
        }
      ]
    },
    {
      "cell_type": "code",
      "metadata": {
        "id": "fDrSJAB06bL-",
        "colab_type": "code",
        "colab": {
          "base_uri": "https://localhost:8080/",
          "height": 34
        },
        "outputId": "f4bbed97-e1ef-4ae7-e976-d7324ea0e306"
      },
      "source": [
        "new_corpus_df = corpus_df[\n",
        "    (corpus_df.en_tok_len < corpus_df.en_tok_len.quantile(0.9)) &\n",
        "    (corpus_df.jap_tok_len < corpus_df.jap_tok_len.quantile(0.9)) \n",
        "]\n",
        "corpus_df.shape"
      ],
      "execution_count": 20,
      "outputs": [
        {
          "output_type": "execute_result",
          "data": {
            "text/plain": [
              "(149791, 6)"
            ]
          },
          "metadata": {
            "tags": []
          },
          "execution_count": 20
        }
      ]
    },
    {
      "cell_type": "code",
      "metadata": {
        "id": "Hgx2QbKd6bIw",
        "colab_type": "code",
        "colab": {}
      },
      "source": [
        "new_corpus_df.to_csv('en_jap_corpus.csv', index=None, columns=['en', 'jap'])"
      ],
      "execution_count": 21,
      "outputs": []
    },
    {
      "cell_type": "code",
      "metadata": {
        "id": "mbCgisWNGycw",
        "colab_type": "code",
        "colab": {}
      },
      "source": [
        "max_src = corpus_df.en_tok_len.max() + 2\n",
        "max_trg = corpus_df.jap_tok_len.max() + 2"
      ],
      "execution_count": 22,
      "outputs": []
    },
    {
      "cell_type": "code",
      "metadata": {
        "id": "u7qljoS80Idb",
        "colab_type": "code",
        "colab": {}
      },
      "source": [
        "SRC = Field(\n",
        "            tokenize = src_tokenize, \n",
        "            init_token = '<sos>', \n",
        "            eos_token = '<eos>', \n",
        "            lower = True, \n",
        "            batch_first = True)\n",
        "\n",
        "TRG = Field(\n",
        "            tokenize = trg_tokenize, \n",
        "            init_token = '<sos>', \n",
        "            eos_token = '<eos>', \n",
        "            lower = True, \n",
        "            batch_first = True)"
      ],
      "execution_count": 23,
      "outputs": []
    },
    {
      "cell_type": "code",
      "metadata": {
        "id": "Az0f3DKVHNMY",
        "colab_type": "code",
        "colab": {
          "base_uri": "https://localhost:8080/",
          "height": 51
        },
        "outputId": "3fc52313-e619-45f9-d8be-a8bc8dc8f88a"
      },
      "source": [
        "%%time\n",
        "trn_data_fields = [(\"src\", SRC), (\"trg\", TRG)]\n",
        "\n",
        "dataset = torchtext.data.TabularDataset(\n",
        "    path='en_jap_corpus.csv',\n",
        "    format='csv',\n",
        "    skip_header=True,\n",
        "    fields=trn_data_fields\n",
        ")\n",
        "\n"
      ],
      "execution_count": 24,
      "outputs": [
        {
          "output_type": "stream",
          "text": [
            "CPU times: user 2min 2s, sys: 369 ms, total: 2min 3s\n",
            "Wall time: 2min 3s\n"
          ],
          "name": "stdout"
        }
      ]
    },
    {
      "cell_type": "code",
      "metadata": {
        "id": "rWZ4YbiYl5jT",
        "colab_type": "code",
        "colab": {}
      },
      "source": [
        "train_data, valid_data, test_data = dataset.split(split_ratio=[0.98, 0.01, 0.01])"
      ],
      "execution_count": 25,
      "outputs": []
    },
    {
      "cell_type": "code",
      "metadata": {
        "id": "nc4SUWsuHNBn",
        "colab_type": "code",
        "colab": {
          "base_uri": "https://localhost:8080/",
          "height": 68
        },
        "outputId": "26034cb2-ddc2-4619-f344-b96e257b7484"
      },
      "source": [
        "SRC.build_vocab(train_data.src, min_freq=3)  # \n",
        "print(SRC.vocab.freqs.most_common(10))\n",
        "\n",
        "TRG.build_vocab(train_data.trg, min_freq=3)\n",
        "print(TRG.vocab.freqs.most_common(10))\n",
        "\n",
        "\n",
        "print(f'SRC.vocab: {len(SRC.vocab)}, TRG.vocab: {len(TRG.vocab)}')"
      ],
      "execution_count": 26,
      "outputs": [
        {
          "output_type": "stream",
          "text": [
            "[('.', 110945), ('the', 47508), ('to', 26425), ('i', 25461), ('a', 21923), ('is', 20993), ('he', 19826), ('you', 15670), ('of', 14218), ('in', 13554)]\n",
            "[('。', 121263), ('は', 93010), ('た', 51259), ('の', 48574), ('に', 48356), ('を', 47677), ('て', 34193), ('が', 30261), ('する', 27333), ('だ', 25724)]\n",
            "SRC.vocab: 9050, TRG.vocab: 11167\n"
          ],
          "name": "stdout"
        }
      ]
    },
    {
      "cell_type": "code",
      "metadata": {
        "id": "op4pLJZg0IeN",
        "colab_type": "code",
        "colab": {}
      },
      "source": [
        "BATCH_SIZE = 256\n",
        "\n",
        "train_iterator, valid_iterator, test_iterator = BucketIterator.splits(\n",
        "    (train_data, valid_data, test_data),\n",
        "    batch_size=BATCH_SIZE,\n",
        "    sort_key=lambda x: len(x.src), # the BucketIterator needs to be told what function it should use to group the data.\n",
        "    sort_within_batch=False,\n",
        "    shuffle=True,\n",
        "    device=device)"
      ],
      "execution_count": 27,
      "outputs": []
    },
    {
      "cell_type": "code",
      "metadata": {
        "colab_type": "code",
        "id": "5m8g_our-SNR",
        "colab": {}
      },
      "source": [
        ""
      ],
      "execution_count": 27,
      "outputs": []
    },
    {
      "cell_type": "markdown",
      "metadata": {
        "id": "RTDEZXuD0Ifm",
        "colab_type": "text"
      },
      "source": [
        "## Training the Transformer Model\n",
        "\n",
        "We can now define our encoder and decoders. This model is significantly smaller than Transformers used in research today, but is able to be run on a single GPU quickly."
      ]
    },
    {
      "cell_type": "code",
      "metadata": {
        "id": "AkgyZ6CN0Ifr",
        "colab_type": "code",
        "colab": {}
      },
      "source": [
        "INPUT_DIM = len(SRC.vocab)\n",
        "OUTPUT_DIM = len(TRG.vocab)\n",
        "HID_DIM = 128\n",
        "ENC_LAYERS = 3\n",
        "DEC_LAYERS = 3\n",
        "ENC_HEADS = 4\n",
        "DEC_HEADS = 4\n",
        "ENC_PF_DIM = 2 * HID_DIM\n",
        "DEC_PF_DIM = 2 * HID_DIM\n",
        "ENC_DROPOUT = 0.07\n",
        "DEC_DROPOUT = 0.07\n",
        "\n",
        "enc = Encoder(INPUT_DIM, \n",
        "              HID_DIM, \n",
        "              ENC_LAYERS, \n",
        "              ENC_HEADS, \n",
        "              ENC_PF_DIM, \n",
        "              dropout=ENC_DROPOUT, \n",
        "              device=device,\n",
        "              max_length=max_src)\n",
        "\n",
        "dec = Decoder(OUTPUT_DIM, \n",
        "              HID_DIM, \n",
        "              DEC_LAYERS, \n",
        "              DEC_HEADS, \n",
        "              DEC_PF_DIM,\n",
        "              dropout=DEC_DROPOUT, \n",
        "              device=device,\n",
        "              max_length=max_trg)"
      ],
      "execution_count": 28,
      "outputs": []
    },
    {
      "cell_type": "markdown",
      "metadata": {
        "id": "TgYnFmtQ0If1",
        "colab_type": "text"
      },
      "source": [
        "Then, use them to define our whole sequence-to-sequence encapsulating model."
      ]
    },
    {
      "cell_type": "code",
      "metadata": {
        "id": "myjSwbDq0If3",
        "colab_type": "code",
        "colab": {
          "base_uri": "https://localhost:8080/",
          "height": 34
        },
        "outputId": "65d06908-133a-4834-f20c-ccd33b85bf41"
      },
      "source": [
        "SRC_PAD_IDX = SRC.vocab.stoi[SRC.pad_token]\n",
        "TRG_PAD_IDX = TRG.vocab.stoi[TRG.pad_token]\n",
        "try:\n",
        "    del model\n",
        "    torch.cuda.empty_cache()\n",
        "except:\n",
        "    print('no model')\n",
        "\n",
        "model = Transformer(enc, dec, SRC_PAD_IDX, TRG_PAD_IDX, device).to(device)\n",
        "# model = Transformer()"
      ],
      "execution_count": 29,
      "outputs": [
        {
          "output_type": "stream",
          "text": [
            "no model\n"
          ],
          "name": "stdout"
        }
      ]
    },
    {
      "cell_type": "markdown",
      "metadata": {
        "id": "dTWTpx8Q0If_",
        "colab_type": "text"
      },
      "source": [
        "We can check the number of parameters, noticing it is significantly less than the 37M for the convolutional sequence-to-sequence model."
      ]
    },
    {
      "cell_type": "code",
      "metadata": {
        "id": "AmyEc_PD0IgB",
        "colab_type": "code",
        "colab": {
          "base_uri": "https://localhost:8080/",
          "height": 34
        },
        "outputId": "ca5731d2-e18f-4547-ebeb-4953c59a9622"
      },
      "source": [
        "\n",
        "\n",
        "print(f'The model has {count_parameters(model):,} trainable parameters')"
      ],
      "execution_count": 30,
      "outputs": [
        {
          "output_type": "stream",
          "text": [
            "The model has 5,035,935 trainable parameters\n"
          ],
          "name": "stdout"
        }
      ]
    },
    {
      "cell_type": "markdown",
      "metadata": {
        "id": "KXl6dhGH0IgL",
        "colab_type": "text"
      },
      "source": [
        "The paper does not mention which weight initialization scheme was used, however Xavier uniform seems to be common amongst Transformer models, so we use it here."
      ]
    },
    {
      "cell_type": "markdown",
      "metadata": {
        "id": "PFtJJAvs0Igd",
        "colab_type": "text"
      },
      "source": [
        "The optimizer used in the original Transformer paper uses Adam with a learning rate that has a \"warm-up\" and then a \"cool-down\" period. BERT and other Transformer models use Adam with a fixed learning rate, so we will implement that. Check [this](http://nlp.seas.harvard.edu/2018/04/03/attention.html#optimizer) link for more details about the original Transformer's learning rate schedule.\n",
        "\n",
        "Note that the learning rate needs to be lower than the default used by Adam or else learning is unstable."
      ]
    },
    {
      "cell_type": "markdown",
      "metadata": {
        "id": "JM4dhePH0Ihf",
        "colab_type": "text"
      },
      "source": [
        "We then define a small function that we can use to tell us how long an epoch takes."
      ]
    },
    {
      "cell_type": "code",
      "metadata": {
        "id": "AfxGr8IR0Ihi",
        "colab_type": "code",
        "colab": {}
      },
      "source": [
        "def epoch_time(start_time, end_time):\n",
        "    elapsed_time = end_time - start_time\n",
        "    elapsed_mins = int(elapsed_time / 60)\n",
        "    elapsed_secs = int(elapsed_time - (elapsed_mins * 60))\n",
        "    return elapsed_mins, elapsed_secs"
      ],
      "execution_count": 31,
      "outputs": []
    },
    {
      "cell_type": "code",
      "metadata": {
        "id": "gRvv0V8bXE46",
        "colab_type": "code",
        "colab": {}
      },
      "source": [
        "model.apply(initialize_weights);\n",
        "best_macro_bleu = 0\n",
        "test_loss = np.inf"
      ],
      "execution_count": 32,
      "outputs": []
    },
    {
      "cell_type": "code",
      "metadata": {
        "id": "K3XtxZn2AmHV",
        "colab_type": "code",
        "colab": {}
      },
      "source": [
        "BEST_MODEL = 'best_blue_en_jap.pt'"
      ],
      "execution_count": 33,
      "outputs": []
    },
    {
      "cell_type": "code",
      "metadata": {
        "id": "lUPA8iz1yEDq",
        "colab_type": "code",
        "colab": {}
      },
      "source": [
        "# cross_entropy = CrossEntropyLoss(ignore_index = TRG_PAD_IDX, smooth_eps=0.03)\n",
        "cross_entropy = nn.CrossEntropyLoss(ignore_index = TRG_PAD_IDX)\n",
        "LEARNING_RATE = 1.25e-3\n",
        "optimizer = torch.optim.Adam(model.parameters(), lr = LEARNING_RATE)\n",
        "\n",
        "def criterion(pred, target):\n",
        "    \"\"\"\n",
        "    pred - BatchSize x TargetLen x VocabSize\n",
        "    target - BatchSize x TargetLen\n",
        "    \"\"\"\n",
        "    pred_flat = pred.view(-1, pred.shape[-1])  # BatchSize*TargetLen x VocabSize\n",
        "    target_flat = target.view(-1)  # BatchSize*TargetLen\n",
        "    return cross_entropy(pred_flat, target_flat)\n",
        "\n",
        "scheduler = torch.optim.lr_scheduler.ReduceLROnPlateau(optimizer=optimizer,\n",
        "                                                       factor=0.2,\n",
        "                                                       verbose=True,\n",
        "                                                       cooldown=0, \n",
        "                                                       patience=4,              \n",
        "                                                       threshold=0.01,\n",
        "                                                       min_lr=5e-5)"
      ],
      "execution_count": 34,
      "outputs": []
    },
    {
      "cell_type": "code",
      "metadata": {
        "id": "uiZBBL0ORs7H",
        "colab_type": "code",
        "colab": {}
      },
      "source": [
        "# train(model, train_iterator, optimizer, criterion, CLIP, 128)\n",
        "train_history = []\n",
        "valid_history = []\n",
        "blue_history = []"
      ],
      "execution_count": 35,
      "outputs": []
    },
    {
      "cell_type": "code",
      "metadata": {
        "colab_type": "code",
        "id": "hlw1p_fD-QcW",
        "colab": {
          "base_uri": "https://localhost:8080/",
          "height": 297,
          "referenced_widgets": [
            "2867752e7b634913b67de1f16b9f0769",
            "9763500da4ba4949917ec957d78f3a26",
            "7f16150ec6f843b39535aed9b05e8d30",
            "695dd301ef9849038d22414878678c97",
            "bbce9dd9f2c845a0a75032b481adcf9f",
            "dc054be0c9a44ffbbb5543665f753d60",
            "6bbbf607e6864d859a39d4fce372ab23",
            "365eb59b2b354470b1113299e86d2ec1"
          ]
        },
        "outputId": "50356840-d72c-402b-c602-713673da423d"
      },
      "source": [
        "N_EPOCHS = 5\n",
        "CLIP = 1\n",
        "\n",
        "try:\n",
        "    best_valid_loss = evaluate(model, valid_iterator, criterion)\n",
        "except:\n",
        "    best_valid_loss = float('inf')\n",
        "print(f'Loss: {best_valid_loss:7.3f}')\n",
        "\n",
        "\n",
        "for epoc_num, epoch in tqdm(enumerate(range(N_EPOCHS)), total=N_EPOCHS):\n",
        "    curent_lr = optimizer.param_groups[0]['lr']\n",
        "    start_time = time.time()\n",
        "    try:\n",
        "        train_loss = train(model, train_iterator, optimizer, criterion, CLIP, 1, 1)\n",
        "        valid_loss = evaluate(model, valid_iterator, criterion)\n",
        "        \n",
        "        scheduler.step(valid_loss)\n",
        "                \n",
        "        if valid_loss < best_valid_loss:\n",
        "            best_valid_loss = valid_loss\n",
        "            print('Новая лучшая модель')\n",
        "\n",
        "        macro_bleu = evaluate_blue(valid_data, SRC, TRG, model, device, max_trg, src_tokenize)\n",
        "        if macro_bleu > best_macro_bleu:\n",
        "            best_macro_bleu = macro_bleu\n",
        "            print('Новый лучший blue')            \n",
        "            torch.save(model.state_dict(), BEST_MODEL)\n",
        "\n",
        "        train_history.append(train_loss)\n",
        "        valid_history.append(valid_loss)\n",
        "        blue_history.append(macro_bleu)\n",
        "\n",
        "        end_time = time.time()\n",
        "        \n",
        "        epoch_mins, epoch_secs = epoch_time(start_time, end_time)\n",
        "        print(f'Epoch: {epoch+1:02} | Time: {epoch_mins}m {epoch_secs}s')\n",
        "        \n",
        "        print(f'\\tMacro-average BLEU: {macro_bleu:.6f}')\n",
        "        print(f'\\tTrain Loss: {train_loss:.3f} | Train PPL: {math.exp(train_loss):7.3f}')\n",
        "        print(f'\\t Val. Loss: {valid_loss:.3f} |  Val. PPL: {math.exp(valid_loss):7.3f}')\n",
        "        print('_' * 100)\n",
        "    except KeyboardInterrupt:\n",
        "        print(f\"Epoch: {epoch+1:02} | LR: {optimizer.param_groups[0]['lr']}\")\n",
        "        break\n",
        "    finally:\n",
        "        pass"
      ],
      "execution_count": 36,
      "outputs": [
        {
          "output_type": "stream",
          "text": [
            "Loss:   9.344\n"
          ],
          "name": "stdout"
        },
        {
          "output_type": "display_data",
          "data": {
            "application/vnd.jupyter.widget-view+json": {
              "model_id": "2867752e7b634913b67de1f16b9f0769",
              "version_minor": 0,
              "version_major": 2
            },
            "text/plain": [
              "HBox(children=(FloatProgress(value=0.0, max=5.0), HTML(value='')))"
            ]
          },
          "metadata": {
            "tags": []
          }
        },
        {
          "output_type": "stream",
          "text": [
            "Новая лучшая модель\n"
          ],
          "name": "stdout"
        },
        {
          "output_type": "error",
          "ename": "TypeError",
          "evalue": "ignored",
          "traceback": [
            "\u001b[0;31m---------------------------------------------------------------------------\u001b[0m",
            "\u001b[0;31mTypeError\u001b[0m                                 Traceback (most recent call last)",
            "\u001b[0;32m<ipython-input-36-fbcd3fa73a58>\u001b[0m in \u001b[0;36m<module>\u001b[0;34m()\u001b[0m\n\u001b[1;32m     22\u001b[0m             \u001b[0mprint\u001b[0m\u001b[0;34m(\u001b[0m\u001b[0;34m'Новая лучшая модель'\u001b[0m\u001b[0;34m)\u001b[0m\u001b[0;34m\u001b[0m\u001b[0;34m\u001b[0m\u001b[0m\n\u001b[1;32m     23\u001b[0m \u001b[0;34m\u001b[0m\u001b[0m\n\u001b[0;32m---> 24\u001b[0;31m         \u001b[0mmacro_bleu\u001b[0m \u001b[0;34m=\u001b[0m \u001b[0mevaluate_blue\u001b[0m\u001b[0;34m(\u001b[0m\u001b[0mvalid_data\u001b[0m\u001b[0;34m,\u001b[0m \u001b[0mSRC\u001b[0m\u001b[0;34m,\u001b[0m \u001b[0mTRG\u001b[0m\u001b[0;34m,\u001b[0m \u001b[0mmodel\u001b[0m\u001b[0;34m,\u001b[0m \u001b[0mdevice\u001b[0m\u001b[0;34m,\u001b[0m \u001b[0mmax_trg\u001b[0m\u001b[0;34m,\u001b[0m \u001b[0msrc_tokenize\u001b[0m\u001b[0;34m)\u001b[0m\u001b[0;34m\u001b[0m\u001b[0;34m\u001b[0m\u001b[0m\n\u001b[0m\u001b[1;32m     25\u001b[0m         \u001b[0;32mif\u001b[0m \u001b[0mmacro_bleu\u001b[0m \u001b[0;34m>\u001b[0m \u001b[0mbest_macro_bleu\u001b[0m\u001b[0;34m:\u001b[0m\u001b[0;34m\u001b[0m\u001b[0;34m\u001b[0m\u001b[0m\n\u001b[1;32m     26\u001b[0m             \u001b[0mbest_macro_bleu\u001b[0m \u001b[0;34m=\u001b[0m \u001b[0mmacro_bleu\u001b[0m\u001b[0;34m\u001b[0m\u001b[0;34m\u001b[0m\u001b[0m\n",
            "\u001b[0;31mTypeError\u001b[0m: evaluate_blue() takes 5 positional arguments but 7 were given"
          ]
        }
      ]
    },
    {
      "cell_type": "markdown",
      "metadata": {
        "id": "CaLO2yNdGem2",
        "colab_type": "text"
      },
      "source": [
        ""
      ]
    },
    {
      "cell_type": "markdown",
      "metadata": {
        "id": "P6yyyi4f0Ih5",
        "colab_type": "text"
      },
      "source": [
        "We load our \"best\" parameters and manage to achieve a better test perplexity than all previous models."
      ]
    },
    {
      "cell_type": "code",
      "metadata": {
        "id": "-WsXCafR0Ih7",
        "colab_type": "code",
        "colab": {}
      },
      "source": [
        "model.load_state_dict(torch.load(BEST_MODEL))\n",
        "\n",
        "test_loss = evaluate(model, test_iterator, criterion)\n",
        "\n",
        "print(f'| Test Loss: {test_loss:.3f} | Test PPL: {math.exp(test_loss):7.3f} |')"
      ],
      "execution_count": null,
      "outputs": []
    },
    {
      "cell_type": "markdown",
      "metadata": {
        "colab_type": "text",
        "id": "IdR6k9gv824w"
      },
      "source": [
        "We'll now define a function that displays the attention over the source sentence for each step of the decoding. As this model has 8 heads our model we can view the attention for each of the heads."
      ]
    },
    {
      "cell_type": "markdown",
      "metadata": {
        "colab_type": "text",
        "id": "G-rQGvLM824n"
      },
      "source": [
        "First, we'll get an example from the training set."
      ]
    },
    {
      "cell_type": "code",
      "metadata": {
        "id": "sx1zXO1Y5SbC",
        "colab_type": "code",
        "colab": {}
      },
      "source": [
        ""
      ],
      "execution_count": null,
      "outputs": []
    },
    {
      "cell_type": "code",
      "metadata": {
        "id": "okKsDx0q8ZJ6",
        "colab_type": "code",
        "colab": {}
      },
      "source": [
        "!wget -q https://github.com/vuthaihoc/fonts/raw/master/JUSTRAJDEEP/Osaka.ttf\n",
        "\n",
        "fontprop_x = FontProperties(size=20)\n",
        "fontprop_y = FontProperties(fname='Osaka.ttf', size=20)"
      ],
      "execution_count": null,
      "outputs": []
    },
    {
      "cell_type": "code",
      "metadata": {
        "id": "A7o6un_Yy9FM",
        "colab_type": "code",
        "colab": {}
      },
      "source": [
        "# def display_attention(sentence:List[str], translation, attention, n_heads = DEC_HEADS, n_rows = DEC_HEADS/2, n_cols = 2):\n",
        "    \n",
        "#     assert n_rows * n_cols == n_heads\n",
        "\n",
        "#     translation = translation[::-1]\n",
        "#     attention = torch.flip(attention, (2,))\n",
        "    \n",
        "#     fig = plt.figure(figsize=((n_cols + 1.5) * 6,(n_rows + 1) * 6))\n",
        "    \n",
        "#     for i in range(n_heads):\n",
        "        \n",
        "#         ax = fig.add_subplot(n_rows, n_cols, i+1)\n",
        "        \n",
        "#         _attention = attention.squeeze(0)[i].cpu().detach().numpy()\n",
        "\n",
        "#         cax = ax.matshow(_attention, cmap='bone')\n",
        "\n",
        "#         ax.tick_params(labelsize=20)\n",
        "#         ax.set_xticklabels(['']+['<sos>']+[t.lower() for t in sentence]+['<eos>'],  #\n",
        "#                            rotation=45, fontproperties=fontprop_x)\n",
        "#         ax.set_yticklabels(['']+translation, fontproperties=fontprop_y)\n",
        "\n",
        "#         ax.xaxis.set_major_locator(ticker.MultipleLocator(1))\n",
        "#         ax.yaxis.set_major_locator(ticker.MultipleLocator(1))\n",
        "\n",
        "#     plt.show()\n",
        "#     plt.close()\n",
        "\n",
        "# def sentence_blue(original: List[str], translation: List[str], n_grams=3) -> float:\n",
        "#     blue = nltk.translate.bleu_score.sentence_bleu(\n",
        "#         original,\n",
        "#         translation[: -1],\n",
        "#         weights = [1/n_grams] * n_grams\n",
        "#         ) \n",
        "#     return blue"
      ],
      "execution_count": null,
      "outputs": []
    },
    {
      "cell_type": "code",
      "metadata": {
        "colab_type": "code",
        "id": "QMTdkSK9824g",
        "colab": {}
      },
      "source": [
        "example_idx = random.randint(0, len(train_data) - 1)\n",
        "\n",
        "src = vars(train_data.examples[example_idx])['src']\n",
        "trg = vars(train_data.examples[example_idx])['trg']\n",
        "translation, attention = translate_sentence(src, SRC, TRG, model, device, max_trg, src_tokenize)\n",
        "\n",
        "print(f'src      : {\" \".join(src)}')\n",
        "print(f'trg      : {\" \".join(trg[::-1])}')\n",
        "print(f'predicted: {\" \".join(translation[::-1])}')\n",
        "print(f'     blue: {100 * sentence_blue(trg, translation):.2f}%')\n",
        "display_attention(src, translation, attention, n_heads = DEC_HEADS, n_rows = DEC_HEADS/2, n_cols = 2, fontprop_x=fontprop_x, fontprop_y=fontprop_y)"
      ],
      "execution_count": null,
      "outputs": []
    },
    {
      "cell_type": "code",
      "metadata": {
        "id": "GrIgH5V6MqVE",
        "colab_type": "code",
        "colab": {}
      },
      "source": [
        "attention.shape"
      ],
      "execution_count": null,
      "outputs": []
    },
    {
      "cell_type": "code",
      "metadata": {
        "colab_type": "code",
        "id": "5nRsOvhp824N",
        "colab": {}
      },
      "source": [
        "example_idx = random.randint(0, len(valid_data) - 1)\n",
        "\n",
        "src = vars(valid_data.examples[example_idx])['src']\n",
        "trg = vars(valid_data.examples[example_idx])['trg']\n",
        "translation, attention = translate_sentence(src, SRC, TRG, model, device)\n",
        "\n",
        "print(f'src      : {\" \".join(src)}')\n",
        "print(f'trg      : {\" \".join(trg[::-1])}')\n",
        "print(f'predicted: {\" \".join(translation[::-1])}')\n",
        "print(f'     blue: {100 * sentence_blue(trg, translation):.2f}%')\n",
        "display_attention(src, translation, attention)"
      ],
      "execution_count": null,
      "outputs": []
    },
    {
      "cell_type": "code",
      "metadata": {
        "colab_type": "code",
        "id": "rMvJiQZl823a",
        "colab": {}
      },
      "source": [
        "example_idx = random.randint(0, len(test_data) - 1)\n",
        "\n",
        "src = vars(test_data.examples[example_idx])['src']\n",
        "trg = vars(test_data.examples[example_idx])['trg']\n",
        "translation, attention = translate_sentence(src, SRC, TRG, model, device)\n",
        "\n",
        "print(f'src      : {\" \".join(src)}')\n",
        "print(f'trg      : {\" \".join(trg[::-1])}')\n",
        "print(f'predicted: {\" \".join(translation[::-1])}')\n",
        "print(f'     blue: {100 * sentence_blue(trg, translation):.2f}%')\n",
        "display_attention(src, translation, attention)"
      ],
      "execution_count": null,
      "outputs": []
    },
    {
      "cell_type": "code",
      "metadata": {
        "id": "6O4dwWnT5zv9",
        "colab_type": "code",
        "colab": {}
      },
      "source": [
        "idxs = list(range(len(test_data)))\n",
        "random.shuffle(idxs)\n",
        "\n",
        "count = 0\n",
        "\n",
        "for example_idx in idxs:\n",
        "    example_idx = random.randint(0, 1219)\n",
        "    src = vars(test_data.examples[example_idx])['src']\n",
        "    trg = vars(test_data.examples[example_idx])['trg']\n",
        "    translation, attention = translate_sentence(src, SRC, TRG, model, device)\n",
        "    result = [translation[0]]\n",
        "    \n",
        "    blue = sentence_blue(trg, translation, 4)\n",
        "    if blue < .85:\n",
        "        continue\n",
        "\n",
        "\n",
        "    for token in translation:\n",
        "        if token != result[-1]:\n",
        "            result.append(token)\n",
        "    print(f'src      : {\" \".join(src)}')\n",
        "    print(f'trg      : {\" \".join(trg[::-1])}')\n",
        "    print(f'predicted: {\" \".join(translation[::-1])}')\n",
        "    print(f'     blue: {100 * blue:.2f}%')\n",
        "    display_attention(src, translation, attention)\n",
        "\n",
        "    count += 1\n",
        "    if count > 40:\n",
        "        break"
      ],
      "execution_count": null,
      "outputs": []
    },
    {
      "cell_type": "code",
      "metadata": {
        "id": "fNScDLRTRyig",
        "colab_type": "code",
        "colab": {}
      },
      "source": [
        ""
      ],
      "execution_count": null,
      "outputs": []
    }
  ]
}